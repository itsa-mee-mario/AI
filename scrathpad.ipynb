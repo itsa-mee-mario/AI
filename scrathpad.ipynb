{
 "cells": [
  {
   "cell_type": "code",
   "execution_count": 1,
   "metadata": {},
   "outputs": [],
   "source": [
    "import torch"
   ]
  },
  {
   "cell_type": "code",
   "execution_count": 2,
   "metadata": {},
   "outputs": [],
   "source": [
    "class Module():\n",
    "    def __call__(self, *args):\n",
    "        self.args = args\n",
    "        self.y = self.forward(*args)\n",
    "        return self.y\n",
    "\n",
    "    def forward(self, *args): raise NotImplementedError\n",
    "    def backward(self, *args): self.bwd(self.y, *self.args)\n",
    "    "
   ]
  },
  {
   "cell_type": "code",
   "execution_count": 3,
   "metadata": {},
   "outputs": [],
   "source": [
    "class relu(Module):\n",
    "    def forward(self, x):  return x.clamp_min(0.)-0.5\n",
    "    def bwd(self, y, x): x.g = (x>0).float()* y.g"
   ]
  },
  {
   "cell_type": "code",
   "execution_count": 124,
   "metadata": {},
   "outputs": [],
   "source": [
    "class linear(Module):\n",
    "    def __init__(self, in_size, out_size):\n",
    "        self.w = torch.zeros(in_size, out_size)\n",
    "        self.b = torch.zeros(out_size)\n",
    "        self.w.g = torch.zeros(in_size, out_size)\n",
    "        self.b.g = torch.zeros(out_size)\n",
    "        torch.nn.init.kaiming_normal_(self.w, mode='fan_out')\n",
    "\n",
    "\n",
    "    def forward(self, x):\n",
    "        y = x.T @ self.w + self.b\n",
    "        print('mean: ', y.mean(), 'std: ' ,y.std())\n",
    "        return y.T\n",
    "    \n",
    "    def bwd(self, y, x):\n",
    "        x.g = y.g.T @ self.w.T\n",
    "        self.w.g = torch.einsum('ij,ki->ik', x, y)\n",
    "        self.b.g = torch.sum(y.g, dim=0)\n"
   ]
  },
  {
   "cell_type": "code",
   "execution_count": 125,
   "metadata": {},
   "outputs": [],
   "source": [
    "class Mse(Module):\n",
    "    def forward (self, x, targ): return (x.squeeze() - targ).pow(2).mean()\n",
    "    def bwd(self, y, x, targ): x.g = 2*(x.squeeze()-targ).unsqueeze(-1) / targ.shape[0]"
   ]
  },
  {
   "cell_type": "code",
   "execution_count": 126,
   "metadata": {},
   "outputs": [],
   "source": [
    "class Model():\n",
    "    def __init__(self):\n",
    "        self.layers = [linear(16, 5), relu(), linear(5, 2)]\n",
    "        self.loss = Mse()\n",
    "        \n",
    "    def __call__(self, x, targ):\n",
    "        for l in self.layers: x = l(x)\n",
    "        return self.loss(x, targ)\n",
    "    \n",
    "    def backward(self):\n",
    "        self.loss.backward()\n",
    "        for l in reversed(self.layers): l.backward()\n"
   ]
  },
  {
   "cell_type": "code",
   "execution_count": 127,
   "metadata": {},
   "outputs": [],
   "source": [
    "model = Model()"
   ]
  },
  {
   "cell_type": "code",
   "execution_count": 128,
   "metadata": {},
   "outputs": [],
   "source": [
    "a = torch.randn(16,1)"
   ]
  },
  {
   "cell_type": "code",
   "execution_count": 129,
   "metadata": {},
   "outputs": [
    {
     "data": {
      "text/plain": [
       "(tensor(0.2433), tensor(0.7794))"
      ]
     },
     "execution_count": 129,
     "metadata": {},
     "output_type": "execute_result"
    }
   ],
   "source": [
    "a.mean(), a.std()"
   ]
  },
  {
   "cell_type": "code",
   "execution_count": 130,
   "metadata": {},
   "outputs": [
    {
     "name": "stdout",
     "output_type": "stream",
     "text": [
      "mean:  tensor(-0.2884) std:  tensor(0.9857)\n",
      "mean:  tensor(0.8023) std:  tensor(0.4716)\n"
     ]
    },
    {
     "data": {
      "text/plain": [
       "tensor(1.4701)"
      ]
     },
     "execution_count": 130,
     "metadata": {},
     "output_type": "execute_result"
    }
   ],
   "source": [
    "model(a, torch.randn(1))"
   ]
  },
  {
   "cell_type": "code",
   "execution_count": 131,
   "metadata": {},
   "outputs": [],
   "source": [
    "model.backward()"
   ]
  },
  {
   "cell_type": "code",
   "execution_count": 139,
   "metadata": {},
   "outputs": [
    {
     "data": {
      "text/plain": [
       "(tensor(-0.0702), tensor(0.7368))"
      ]
     },
     "execution_count": 139,
     "metadata": {},
     "output_type": "execute_result"
    }
   ],
   "source": [
    "model.layers[0].w.g.mean(), model.layers[0].w.g.std()"
   ]
  },
  {
   "cell_type": "code",
   "execution_count": null,
   "metadata": {},
   "outputs": [],
   "source": []
  }
 ],
 "metadata": {
  "interpreter": {
   "hash": "a9ff61a4b43343b6cea103718d4de94c0444552ecaf22005224c50b67943e91f"
  },
  "kernelspec": {
   "display_name": "Python 3.10.4 ('fastai': venv)",
   "language": "python",
   "name": "python3"
  },
  "language_info": {
   "codemirror_mode": {
    "name": "ipython",
    "version": 3
   },
   "file_extension": ".py",
   "mimetype": "text/x-python",
   "name": "python",
   "nbconvert_exporter": "python",
   "pygments_lexer": "ipython3",
   "version": "3.10.4"
  },
  "orig_nbformat": 4
 },
 "nbformat": 4,
 "nbformat_minor": 2
}
